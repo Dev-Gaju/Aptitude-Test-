{
  "nbformat": 4,
  "nbformat_minor": 0,
  "metadata": {
    "colab": {
      "provenance": []
    },
    "kernelspec": {
      "name": "python3",
      "display_name": "Python 3"
    },
    "language_info": {
      "name": "python"
    }
  },
  "cells": [
    {
      "cell_type": "code",
      "execution_count": 1,
      "metadata": {
        "colab": {
          "base_uri": "https://localhost:8080/"
        },
        "id": "xtIV63tN_lCA",
        "outputId": "c2513100-2da6-42f4-b540-391fb607e86b"
      },
      "outputs": [
        {
          "output_type": "stream",
          "name": "stdout",
          "text": [
            "Mounted at /content/drive\n"
          ]
        }
      ],
      "source": [
        "from google.colab import drive\n",
        "drive.mount('/content/drive')"
      ]
    },
    {
      "cell_type": "code",
      "source": [
        "import os, json, shutil\n",
        "from glob import glob\n",
        "base_dir=\"/content/drive/MyDrive/ML-Task\""
      ],
      "metadata": {
        "id": "LRB9waxWAA8k"
      },
      "execution_count": 2,
      "outputs": []
    },
    {
      "cell_type": "code",
      "source": [
        "file_path =glob(\"/content/drive/MyDrive/ML-Task/KoLa Dataset/BB/*.josn\")"
      ],
      "metadata": {
        "id": "TCwmeUzWAmGz"
      },
      "execution_count": 3,
      "outputs": []
    },
    {
      "cell_type": "code",
      "source": [
        "# appedn all files together\n",
        "bboxes=[]\n",
        "for file in file_path:\n",
        "  with open(file, 'rb') as f:\n",
        "    box=json.load(f)\n",
        "    bboxes.append(box)"
      ],
      "metadata": {
        "id": "K5qm-DOyAu9J"
      },
      "execution_count": 5,
      "outputs": []
    },
    {
      "cell_type": "code",
      "source": [
        "# create a directory for labels\n",
        "labels = os.path.join(base_dir, 'finale_labels')\n",
        "os.makedirs(labels, exist_ok=True)"
      ],
      "metadata": {
        "id": "haAr7uZwB7Ys"
      },
      "execution_count": 18,
      "outputs": []
    },
    {
      "cell_type": "code",
      "source": [],
      "metadata": {
        "id": "bHP_eNVpGDiE"
      },
      "execution_count": null,
      "outputs": []
    },
    {
      "cell_type": "code",
      "source": [
        "for i in range(len(bboxes)):\n",
        "  image_height =bboxes[i]['imageHeight']\n",
        "  image_width=bboxes[i]['imageWidth']\n",
        "  image_id =os.path.splitext(os.path.basename(bboxes[i]['imagePath']))[0]\n",
        "  image_points =[]\n",
        "  for shape in bboxes[i]['shapes']:\n",
        "    label =shape['label']\n",
        "    points=shape['points']\n",
        "    x_min =points[0][0]/image_width\n",
        "    y_min =points[0][1]/image_height\n",
        "    x_max =points[1][0]/image_width\n",
        "    y_max =points[1][1]/image_height\n",
        "\n",
        "    #find out the mid and height width\n",
        "    x_mid = (x_max + x_min)/2\n",
        "    y_mid =(y_max - y_min)/2\n",
        "\n",
        "    w= x_max - x_min\n",
        "    h= y_max - y_min\n",
        "    image_points.append(f'{label} {x_mid} {y_mid} {w} {h}')\n",
        "\n",
        "\n",
        "  with open(f'/content/drive/MyDrive/ML-Task/finale_labels/{image_id}.txt', 'w') as txt_file:\n",
        "    txt_file.write('\\n'.join(image_points))\n"
      ],
      "metadata": {
        "id": "uhVAq1PRAwWx"
      },
      "execution_count": 24,
      "outputs": []
    },
    {
      "cell_type": "code",
      "source": [
        "image_paths =glob(\"/content/drive/MyDrive/ML-Task/KoLa Dataset/Kola/*\")\n",
        "label_paths =glob(\"/content/drive/MyDrive/ML-Task/finale_labels/*.txt\")"
      ],
      "metadata": {
        "id": "mye-gJxRFsgD"
      },
      "execution_count": 25,
      "outputs": []
    },
    {
      "cell_type": "code",
      "source": [
        "len(image_paths), len(label_paths)"
      ],
      "metadata": {
        "colab": {
          "base_uri": "https://localhost:8080/"
        },
        "id": "OELN_7SKIT3C",
        "outputId": "f9bfcf0a-f26b-4014-f307-de5fb128d7e5"
      },
      "execution_count": 29,
      "outputs": [
        {
          "output_type": "execute_result",
          "data": {
            "text/plain": [
              "(167, 162)"
            ]
          },
          "metadata": {},
          "execution_count": 29
        }
      ]
    },
    {
      "cell_type": "code",
      "source": [
        "valid_image_paths = []\n",
        "valid_label_paths = []\n",
        "for image_path in image_paths:\n",
        "    image_filename=os.path.splitext(os.path.basename(image_path))[0]\n",
        "    label_filename = image_filename +'.txt'\n",
        "    label_path = os.path.join(\"/content/drive/MyDrive/ML-Task/finale_labels\", label_filename)\n",
        "    if label_path in label_paths:\n",
        "        valid_image_paths.append(image_path)\n",
        "        valid_label_paths.append(label_path)\n",
        ""
      ],
      "metadata": {
        "id": "nff5AanAIU-J"
      },
      "execution_count": 30,
      "outputs": []
    },
    {
      "cell_type": "code",
      "source": [
        "len(valid_image_paths), len(valid_label_paths)"
      ],
      "metadata": {
        "colab": {
          "base_uri": "https://localhost:8080/"
        },
        "id": "RnUWNSB9JEPS",
        "outputId": "4b49d7d2-c127-4c18-c36c-aa17313e01ad"
      },
      "execution_count": 32,
      "outputs": [
        {
          "output_type": "execute_result",
          "data": {
            "text/plain": [
              "(163, 163)"
            ]
          },
          "metadata": {},
          "execution_count": 32
        }
      ]
    },
    {
      "cell_type": "code",
      "source": [
        "from sklearn.model_selection import KFold"
      ],
      "metadata": {
        "id": "O7Tg3bAtJ0GI"
      },
      "execution_count": 34,
      "outputs": []
    },
    {
      "cell_type": "code",
      "source": [
        "n_splits = 3  # Specify the number of folds\n",
        "test_size = 30  # Specify the number of test samples for each fold\n",
        "\n",
        "\n",
        "test_dir_images = os.path.join(base_dir, 'koala/images/test')\n",
        "test_dir_labels = os.path.join(base_dir, 'koala/labels/test')\n",
        "os.makedirs(test_dir_images, exist_ok=True)\n",
        "os.makedirs(test_dir_labels, exist_ok=True)\n",
        "kf=KFold(n_splits=n_splits, shuffle=True, random_state=42)\n",
        "data=list(zip(valid_image_paths,valid_label_paths))"
      ],
      "metadata": {
        "id": "iBkh--89JEUk"
      },
      "execution_count": 38,
      "outputs": []
    },
    {
      "cell_type": "code",
      "source": [
        "for fold, (train_index, test_index) in enumerate(kf.split(data)):\n",
        "    train_data = [data[i] for i in train_index]\n",
        "    test_data = [data[i] for i in test_index[:test_size]]\n",
        "\n",
        "    remaining_train_index = test_index[test_size:]\n",
        "    remaining_train_data = [data[i] for i in remaining_train_index]\n",
        "    train_data.extend(remaining_train_data)\n",
        "\n",
        "    # Create directories for training\n",
        "    train_dir_images = os.path.join(base_dir, f'koala/images/fold{fold + 1}')\n",
        "    train_dir_labels = os.path.join(base_dir, f'koala/labels/fold{fold + 1}')\n",
        "\n",
        "    os.makedirs(train_dir_images, exist_ok=True)\n",
        "    os.makedirs(train_dir_labels, exist_ok=True)\n",
        "\n",
        "    # Copy train data\n",
        "    for img_path, txt_path in train_data:\n",
        "        shutil.copyfile(img_path, os.path.join(train_dir_images, os.path.basename(img_path)))\n",
        "        shutil.copyfile(txt_path, os.path.join(train_dir_labels, os.path.basename(txt_path)))\n",
        "\n",
        "# Copy test data directly under 'images/test'\n",
        "for img_path, txt_path in test_data:\n",
        "    shutil.copyfile(img_path, os.path.join(test_dir_images, os.path.basename(img_path)))\n",
        "    shutil.copyfile(txt_path, os.path.join(test_dir_labels, os.path.basename(txt_path)))"
      ],
      "metadata": {
        "id": "PmBROV4_I1Ni"
      },
      "execution_count": 42,
      "outputs": []
    },
    {
      "cell_type": "code",
      "source": [
        "class_name = \"koala\"\n",
        "\n",
        "file_name = \"koala/classes.txt\"\n",
        "file_path = os.path.join(base_dir, file_name)\n",
        "with open(file_path, 'w') as file:\n",
        "    file.write(class_name)"
      ],
      "metadata": {
        "id": "vE_0BK0KJC6o"
      },
      "execution_count": 41,
      "outputs": []
    },
    {
      "cell_type": "code",
      "source": [
        "# dataset Preparation Complete."
      ],
      "metadata": {
        "id": "eqyfgCHCLxIJ"
      },
      "execution_count": null,
      "outputs": []
    }
  ]
}